{
 "cells": [
  {
   "cell_type": "code",
   "execution_count": 1,
   "id": "52422583",
   "metadata": {},
   "outputs": [],
   "source": [
    "import numpy as np\n",
    "import matplotlib.pyplot as plt\n",
    "import os\n",
    "import pandas as pd\n",
    "import scipy.stats\n",
    "from scipy.io import wavfile\n",
    "from scipy.spatial.distance import cdist\n",
    "from scipy.fftpack import fft"
   ]
  },
  {
   "cell_type": "markdown",
   "id": "82396b53",
   "metadata": {},
   "source": [
    "Task\n",
    "i. Read the training data, which is in the form of music file. Convert them into spectrogram with window 25 ms and shift of 10 ms with 64 component FFT\n",
    "Similarly do for test files\n",
    "\n",
    "ii. From spectrogram of music and speech file, we will cluster the data in 8 clusters. We will fit two KMeans model on the data. Cluster assignment is treated as observation symbol corresponding to Each dataframe. \n",
    "\n",
    "a. We will find the likelihood of obsevation for each file with the help of Forward algorithm. Find the the music file which corresponds to maximum likelihood. \n",
    "\n",
    "b. Similarly we can find likelihood for each state with the help of the backward algorithm\n",
    "\n",
    "c. Implementation of Viterbi algorithm to predict most probable sequence of states\n",
    "\n",
    "c. Implementation of Baum-Welch reestimation to learn the parameter of the model\n",
    "\n",
    "d. Test the model with the help of the testing data\n",
    "    First convert the spectrogram into observation states using KMeans model. We will get two sets of observation states from two different KMeans models\n",
    "    Pass that observation set corresponding to Music HMM model and Speech HMM model to calculate the likelihood \n",
    "    This will calculate the likelihood (Use of forward)\n",
    "    Class is decided by Maximum likelihood among both \n",
    "    Calculate the accuracy\n",
    "    "
   ]
  },
  {
   "cell_type": "code",
   "execution_count": 2,
   "id": "9d735437",
   "metadata": {},
   "outputs": [],
   "source": [
    "def displayPlot(x,y,lab,loca,xlab,ylab,title):\n",
    "    plt.figure\n",
    "    plt.plot(x,y,label=lab)    \n",
    "    plt.legend(loc=loca)\n",
    "    plt.xlabel(xlab,size=12)\n",
    "    plt.ylabel(ylab,size=12)\n",
    "    plt.title(title,size=15)\n",
    "    plt.savefig(lab+'.png')\n",
    "    plt.show()"
   ]
  },
  {
   "cell_type": "code",
   "execution_count": 3,
   "id": "6af87b3d",
   "metadata": {},
   "outputs": [],
   "source": [
    "def spectrogram(fileName, window, shift,fft_points,frames):\n",
    "    sample_rate, data = wavfile.read(fileName)\n",
    "    sg = []\n",
    "    window = int(sample_rate*window/1000)\n",
    "    shift = int(sample_rate*shift/1000)\n",
    "    half_fft = int(fft_points/2) \n",
    "    hammW = np.hamming(window)\n",
    "    for i in range(frames):\n",
    "        data_window = data[i*shift:i*shift+window]\n",
    "        #data_fft =  np.log(np.abs(fft(data_window,fft_points)))        # for  Without hamming function \n",
    "        data_fft =  np.log(np.abs(fft(data_window*hammW,fft_points)))   # for  With hamming function \n",
    "        sg.append(data_fft[:half_fft])\n",
    "    sg = (np.array(sg)).T    \n",
    "    return  sample_rate,  data, sg"
   ]
  },
  {
   "cell_type": "code",
   "execution_count": 4,
   "id": "86363339",
   "metadata": {},
   "outputs": [],
   "source": [
    "# o is the observation sequence\n",
    "# o --> No of Time steps * 1\n",
    "# a --> No of states * No of states\n",
    "# b --> No of states * No of observation Symbols\n",
    "# pi --> No of states * 1\n",
    "\n",
    "def forward(o,a,b,pi):\n",
    "    T = o.shape[0]\n",
    "    N = a.shape[0]\n",
    "    sum_t = []\n",
    "    # print(T,N)\n",
    "    # Initialise alpha\n",
    "    alpha = np.zeros((N,T))\n",
    "    for i in range(N):\n",
    "        alpha[i][0]=pi[i]*b[i][o[0]]\n",
    "    sc = (np.sum(alpha[:,0])) \n",
    "    #\n",
    "    alpha[:,0] = alpha[:,0]/sc\n",
    "    sum_t.append(1/sc)\n",
    "    #print(alpha[:,0])\n",
    "    \n",
    "    for t in range(T-1):\n",
    "        for j in range(N):    # for alpha[j][]\n",
    "            temp = 0\n",
    "            for i in range(N):\n",
    "                temp += alpha[i][t]*a[i][j]\n",
    "            alpha[j][t+1] = temp*b[j][o[t+1]]\n",
    "        sc = (np.sum(alpha[:,t+1])) \n",
    "        sum_t.append(1.0/sc)\n",
    "        alpha[:,t+1] = alpha[:,t+1]/sc\n",
    "    # termination\n",
    "    alpha_T_sum = np.sum(alpha[:,T-1])\n",
    "    lk = (np.sum(np.log(sum_t)))*-1.0\n",
    "    return alpha, alpha_T_sum, lk "
   ]
  },
  {
   "cell_type": "code",
   "execution_count": 5,
   "id": "425d8da0",
   "metadata": {},
   "outputs": [],
   "source": [
    "# o is the observation sequence\n",
    "# o --> No of Time steps * 1\n",
    "# a --> No of states * No of states\n",
    "# b --> No of states * No of observation Symbols\n",
    "# pi --> No of states * 1\n",
    "\n",
    "def backward(o,a,b,pi):\n",
    "    T = o.shape[0]\n",
    "    N = a.shape[0]\n",
    "    sum_t = []\n",
    "    # Initialise beta\n",
    "    beta = np.zeros((N,T))\n",
    "    for i in range(N):\n",
    "        beta[i][T-1]=1\n",
    "    t = T-2\n",
    "    while(t>=0):\n",
    "        for i in range(N):    # for beta[i][]\n",
    "            temp = 0\n",
    "            for j in range(N):\n",
    "                temp += a[i][j]*beta[j][t+1]*b[j][o[t+1]]\n",
    "            beta[i][t] = temp\n",
    "        sc = (np.sum(beta[:,t]))\n",
    "        sum_t.append(1.0/sc)\n",
    "        beta[:,t] = beta[:,t]/sc\n",
    "            #print(o[t+1],beta[i][t])\n",
    "        # Termination\n",
    "        \n",
    "        t -=1\n",
    "    lk = (np.sum(np.log(sum_t)))*-1.0\n",
    "    return beta, lk"
   ]
  },
  {
   "cell_type": "code",
   "execution_count": 6,
   "id": "d40e91ba",
   "metadata": {},
   "outputs": [],
   "source": [
    "# o is the observation sequence\n",
    "# o --> No of Time steps * 1\n",
    "# a --> No of states * No of states\n",
    "# b --> No of states * No of observation Symbols\n",
    "# pi --> No of states * 1\n",
    "\n",
    "def Viterbi(o,a,b,pi):\n",
    "    T = o.shape[0]\n",
    "    N = a.shape[0]\n",
    "    delta = np.zeros((N,T))\n",
    "    si = np.zeros((N,T))\n",
    "    q = np.zeros(T)\n",
    "    #print(\"Number of time steps:\",T)\n",
    "    #print(\"Number of states:\",N)\n",
    "    #print(\"Model parameters :\\n\",'a:\\n',a,'\\nb:\\n',b,'\\n pi:\\n',pi)\n",
    "    # Initialization\n",
    "    for i in range(N):\n",
    "        delta[i][0] = pi[i]*b[i][o[0]]\n",
    "        \n",
    "    # Normalise \n",
    "    sc = (np.sum(delta[:,0])) \n",
    "    delta[:,0] = delta[:,0]/sc\n",
    "    \n",
    "    # Recursion\n",
    "    for t in range(T-1):\n",
    "        for j in range(N):\n",
    "            maximum = 0\n",
    "            maxindex = 0\n",
    "            for i in range(N):\n",
    "                if maximum < delta[i][t]*a[i][j]:\n",
    "                    maximum = delta[i][t]*a[i][j]\n",
    "                    maxindex = i\n",
    "            \n",
    "            delta[j][t+1] = maximum*b[j][o[t+1]]\n",
    "            si[j][t+1] = maxindex\n",
    "        # Normalise \n",
    "        sc = (np.sum(delta[:,t+1])) \n",
    "        delta[:,t+1] = delta[:,t+1]/sc\n",
    "    \n",
    "    # Terminate\n",
    "    pstar = np.max(delta[:,T-1])\n",
    "    q[T-1] = (np.where(delta[:,T-1] == np.amax(delta[:,T-1]))[0][0])\n",
    "    q[T-1] = int(q[T-1])\n",
    "    t = T-2\n",
    "    while t>=0:\n",
    "        q[t] = si[int(q[t+1])][t+1]\n",
    "        t -= 1\n",
    "    print(q)\n",
    "    return q\n",
    "            \n",
    "    "
   ]
  },
  {
   "cell_type": "code",
   "execution_count": 7,
   "id": "6919ad0d",
   "metadata": {},
   "outputs": [],
   "source": [
    "# o is the observation sequence\n",
    "# o -->  No of Files * No of Time steps \n",
    "# a --> No of states * No of states\n",
    "# b --> No of states * No of observation Symbols\n",
    "# pi --> No of states * 1\n",
    "\n",
    "\n",
    "def BaumWelch(o,a,b,pi, no_iter):\n",
    "    T = o.shape[1]     # No of Time steps\n",
    "    N = a.shape[0]     # No of states\n",
    "    S = b.shape[1]     # No of observation Symbols\n",
    "    No_files = o.shape[0]\n",
    "    \n",
    "    print(\"Number of time steps:\",T)\n",
    "    print(\"Number of states:\",N)\n",
    "    print(\"Number of observation states:\",S)\n",
    "    print(\"Number of files: \", No_files)\n",
    "    print(\"Initial Guess :\\n\",'a:\\n',a,'\\nb:\\n',b,'\\n pi:\\n',pi)\n",
    "    alpha = np.zeros((No_files,N,T))\n",
    "    beta = np.zeros((No_files,N,T))\n",
    "    xi = np.zeros((No_files,T-1,N,N))\n",
    "    gamma = np.zeros((No_files, N, T))\n",
    "    pk = np.zeros(No_files)\n",
    "    \n",
    "    a_new = np.zeros((N,N))\n",
    "    b_new = np.zeros((N,S))\n",
    "    pi_new = np.zeros(N)\n",
    "    likelihood_it = []\n",
    "    for n in range(no_iter):\n",
    "        print(\"iteration number:\", n)\n",
    "        likelihood_iteration = 0.0\n",
    "        for k in range(No_files): \n",
    "            \n",
    "            # *************************** Step 1 of algorithm ********************************* \n",
    "            \n",
    "            # Calculation of alpha, beta, gamma, xi\n",
    "            p,q,r = forward(o[k,:],a,b,pi)\n",
    "            alpha[k] = p\n",
    "            likelihood_iteration += r\n",
    "            e,f = backward(o[k,:],a,b,pi)\n",
    "            beta[k] = e\n",
    "            #print(alpha[k])\n",
    "            #print(beta[k])\n",
    "            # Loop for calculation of xi\n",
    "            for t in range(T-1):\n",
    "                deno = 0.0\n",
    "                for i in range(N):\n",
    "                    for j in range(N):\n",
    "                        deno += alpha[k][i][t]*a[i][j]*b[j][o[k][t+1]]*beta[k][j][t+1]\n",
    "\n",
    "                for i in range(N):\n",
    "                    for j in range(N):\n",
    "                        xi[k][t][i][j] = (alpha[k][i][t]*a[i][j]*b[j][o[k][t+1]]*beta[k][j][t+1])/deno\n",
    "\n",
    "            # Loop for calculation of gamma\n",
    "            for t in range(T):\n",
    "                deno = 0.0\n",
    "                for j in range(N):\n",
    "                    deno += alpha[k][j][t]*beta[k][j][t]\n",
    "\n",
    "                for i in range(N):\n",
    "                    gamma[k][i][t] = (alpha[k][i][t]*beta[k][i][t])/deno\n",
    "                    \n",
    "            for i in range(N):\n",
    "                pk[k] += alpha[k][i][T-1]\n",
    "\n",
    "                \n",
    "        # *********************** Step 2 of Algorithm ***************************************\n",
    "        \n",
    "        # Reestimating a,b,pi\n",
    "        \n",
    "        # pi\n",
    "        for i in range(N):\n",
    "            temp_pi_sum = 0.0\n",
    "            for k in range(No_files):\n",
    "                temp_pi_sum += gamma[k,i,0]\n",
    "            pi_new[i] = temp_pi_sum/No_files\n",
    "            \n",
    "        # a\n",
    "        for i in range(N):\n",
    "            for j in range(N):\n",
    "                num_a = 0.0\n",
    "                deno_a = 0.0\n",
    "                for k in range(No_files):\n",
    "                    for t in range(T-1):\n",
    "                        num_a += xi[k,t,i,j]\n",
    "                        deno_a += gamma[k,i,t]\n",
    "                a_new[i][j] = num_a/deno_a\n",
    "                \n",
    "        # b\n",
    "        for i in range(N):        \n",
    "            for j in range(S):\n",
    "                deno_b=0.0\n",
    "                num_b =0.0\n",
    "                for k in range(No_files):\n",
    "                    for t in range(T-1):\n",
    "                        deno_b += gamma[k,i,t]\n",
    "                        if(o[k][t] == j):\n",
    "                            num_b += gamma[k,i,t]           \n",
    "                b_new[i][j] = num_b/deno_b\n",
    "                \n",
    "        # Updating a,b,pi\n",
    "        pi = pi_new\n",
    "        a =a_new\n",
    "        b = b_new\n",
    "        print(\"Likelihood of the iteration is \",likelihood_iteration)\n",
    "        likelihood_it.append(likelihood_iteration)\n",
    "                \n",
    "    return a,b,pi, likelihood_it                    \n"
   ]
  },
  {
   "cell_type": "markdown",
   "id": "5d83e32a",
   "metadata": {},
   "source": [
    "#                            Main program "
   ]
  },
  {
   "cell_type": "markdown",
   "id": "8bd8a418",
   "metadata": {},
   "source": [
    "Generate spectrogram features - Use the log magnitude spectrogram as before with\n",
    "a 64 component magnitude FFT (NFFT). In this case, the spectrogram will have\n",
    "dimension 32 times the number of frames (using 25 ms with a shift of 10 ms)."
   ]
  },
  {
   "cell_type": "code",
   "execution_count": 8,
   "id": "abf1c96d",
   "metadata": {},
   "outputs": [],
   "source": [
    "#  i. Read the training data, which is in the form of music file. \n",
    "# Convert them into spectrogram with window 25 ms and shift of 10 ms with 64 component FFT Similarly do for test file\n",
    "\n",
    "# Initial inputs \n",
    "# Training data\n",
    "path_music = './speech_music_classification/train/music'\n",
    "path_speech = './speech_music_classification/train/speech'\n",
    "files_music = os.listdir(path_music)\n",
    "files_speech = os.listdir(path_speech)\n",
    "\n",
    "a_ = 32\n",
    "b_ = 2998\n",
    "total_samples = len(files_music)\n",
    "total_sequences = total_samples\n",
    "# Number of frames * Number of features \n",
    "music = np.zeros((b_ * total_samples, a_))\n",
    "speech = np.zeros((b_ * total_samples, a_))"
   ]
  },
  {
   "cell_type": "code",
   "execution_count": 9,
   "id": "da650852",
   "metadata": {},
   "outputs": [],
   "source": [
    "windowSz = 25\n",
    "shift = 10\n",
    "fft_points = 64\n",
    "# Music data\n",
    "for i in range(total_samples):\n",
    "    freq, signal, spec = spectrogram(path_music + '/' + files_music[i], windowSz, shift,fft_points,b_)\n",
    "    spec = spec.T\n",
    "    music[b_ * i: b_ * (i+1), :] = spec\n",
    "\n",
    "# Speech data\n",
    "for i in range(total_samples):\n",
    "    freq, signal, spec = spectrogram(path_speech + '/' + files_speech[i], windowSz, shift,fft_points,b_)\n",
    "    spec = spec.T\n",
    "    speech[b_ * i:b_ * (i+1), :] = spec"
   ]
  },
  {
   "cell_type": "markdown",
   "id": "6c9ab0a8",
   "metadata": {},
   "source": [
    "Perform a K-means clustering on the spectrogram with K = 8 (using both speech\n",
    "and music data) and cluster the spectrogram features into discrete symbols"
   ]
  },
  {
   "cell_type": "code",
   "execution_count": 10,
   "id": "60600383",
   "metadata": {},
   "outputs": [],
   "source": [
    "# From spsectrogram of music and speech file, we will cluster the data in 8 clusters. \n",
    "# we will fit two KMeans model on the data. \n",
    "# Cluster assignment is treated as observation symbol corresponding to Each dataframe\n",
    "\n",
    "# KMeans model for Music\n",
    "from sklearn.cluster import KMeans\n",
    "kmeans_music = KMeans(n_clusters = 8, init = 'k-means++', random_state = 63)\n",
    "y_kmeans_music = kmeans_music.fit_predict(music)\n",
    "\n",
    "# KMeans model for Speech\n",
    "from sklearn.cluster import KMeans\n",
    "kmeans_speech = KMeans(n_clusters = 8, init = 'k-means++', random_state = 63)\n",
    "y_kmeans_speech = kmeans_speech.fit_predict(speech)"
   ]
  },
  {
   "cell_type": "code",
   "execution_count": 11,
   "id": "78b9b01c",
   "metadata": {},
   "outputs": [],
   "source": [
    "#total_data = music+speech\n",
    "total_data = np.array(music.copy())\n",
    "speech_np = np.array(speech.copy())\n",
    "total_data = np.concatenate((total_data, speech_np), axis=0)"
   ]
  },
  {
   "cell_type": "code",
   "execution_count": 12,
   "id": "f6423f41",
   "metadata": {},
   "outputs": [
    {
     "data": {
      "text/plain": [
       "(239840, 32)"
      ]
     },
     "execution_count": 12,
     "metadata": {},
     "output_type": "execute_result"
    }
   ],
   "source": [
    "total_data.shape"
   ]
  },
  {
   "cell_type": "code",
   "execution_count": 13,
   "id": "319f497f",
   "metadata": {},
   "outputs": [],
   "source": [
    "# KMeans model for total\n",
    "from sklearn.cluster import KMeans\n",
    "kmeans_t = KMeans(n_clusters = 8, init = 'k-means++', random_state = 63)\n",
    "y_kmeans_t = kmeans_t.fit_predict(total_data)"
   ]
  },
  {
   "cell_type": "code",
   "execution_count": 14,
   "id": "e3aa631e",
   "metadata": {},
   "outputs": [
    {
     "data": {
      "text/plain": [
       "(239840,)"
      ]
     },
     "execution_count": 14,
     "metadata": {},
     "output_type": "execute_result"
    }
   ],
   "source": [
    "y_kmeans_t.shape"
   ]
  },
  {
   "cell_type": "code",
   "execution_count": 15,
   "id": "5e6d8015",
   "metadata": {},
   "outputs": [],
   "source": [
    "# Reshaping the observation sequences \n",
    "o_t =  y_kmeans_t.reshape(total_sequences*2, b_) "
   ]
  },
  {
   "cell_type": "code",
   "execution_count": 16,
   "id": "a467813b",
   "metadata": {},
   "outputs": [
    {
     "name": "stdout",
     "output_type": "stream",
     "text": [
      "(80, 2998)\n"
     ]
    }
   ],
   "source": [
    "print(o_t.shape)"
   ]
  },
  {
   "cell_type": "code",
   "execution_count": 17,
   "id": "2d9fbde2",
   "metadata": {},
   "outputs": [],
   "source": [
    "o_music = o_t[0:total_samples,:]\n",
    "o_speech = o_t[total_samples:,:]"
   ]
  },
  {
   "cell_type": "code",
   "execution_count": 18,
   "id": "dccf7bd8",
   "metadata": {},
   "outputs": [
    {
     "name": "stdout",
     "output_type": "stream",
     "text": [
      "(40, 2998)\n",
      "(40, 2998)\n"
     ]
    }
   ],
   "source": [
    "print(o_music.shape)\n",
    "print(o_speech.shape)"
   ]
  },
  {
   "cell_type": "code",
   "execution_count": 19,
   "id": "495d529f",
   "metadata": {},
   "outputs": [],
   "source": [
    "# Initial Model \n",
    "# Transition Probabilities\n",
    "#3*3\n",
    "a = np.array([[0.6, 0.4, 0.0],\n",
    "    [0.3, 0.5, 0.2],\n",
    "    [0.0, 0.1, 0.9]])\n",
    " \n",
    "# Emission Probabilities\n",
    "# 3*8\n",
    "b = np.array([[0.25, 0.25, 0.25, 0.25, 0.0, 0.0, 0.0, 0.0],\n",
    "    [0.125, 0.125,0.125,0.125,0.125,0.125,0.125,0.125],\n",
    "    [0.0, 0.0, 0.0, 0.0, 0.0, 0.5,0.5,0.0]])\n",
    "\n",
    "# Equal Probabilities for the initial distribution\n",
    "# 3*1\n",
    "pi = np.array((0.5, 0.5, 0.0))"
   ]
  },
  {
   "cell_type": "markdown",
   "id": "ba66e202",
   "metadata": {},
   "source": [
    "#                         FORWARD PROCEDURE"
   ]
  },
  {
   "cell_type": "code",
   "execution_count": 20,
   "id": "5ad8bd2e",
   "metadata": {
    "scrolled": false
   },
   "outputs": [],
   "source": [
    "# Music files forward \n",
    "alpha_music = []\n",
    "alpha_sum_music = []\n",
    "likelihood_music_forward = []\n",
    "for i in range(total_samples):\n",
    "    alpha, alpha_sum, lk = forward(o_music[i,:], a, b, pi)\n",
    "    alpha_music.append(alpha)\n",
    "    alpha_sum_music.append(alpha_sum)\n",
    "    likelihood_music_forward.append(lk)\n",
    "    \n"
   ]
  },
  {
   "cell_type": "code",
   "execution_count": 21,
   "id": "13cd289b",
   "metadata": {
    "scrolled": true
   },
   "outputs": [
    {
     "data": {
      "text/plain": [
       "[-5405.557164434227,\n",
       " -6130.00475426054,\n",
       " -6587.962874987519,\n",
       " -6165.779129656952,\n",
       " -5969.483444660626,\n",
       " -6592.910815360441,\n",
       " -5586.927690217386,\n",
       " -5884.822026648786,\n",
       " -5863.536610429444,\n",
       " -6276.464149793054,\n",
       " -5589.101879765597,\n",
       " -6425.328870285989,\n",
       " -5463.8960603097385,\n",
       " -6090.524266946226,\n",
       " -6094.180385786557,\n",
       " -6277.298193451981,\n",
       " -6383.125398486329,\n",
       " -6187.490695920059,\n",
       " -6165.898215726258,\n",
       " -5842.664932826025,\n",
       " -6538.295084764308,\n",
       " -6201.8928843222375,\n",
       " -5907.183731080832,\n",
       " -6111.471685277618,\n",
       " -6444.429862525061,\n",
       " -6608.607625649129,\n",
       " -5362.449629683476,\n",
       " -6097.264622088631,\n",
       " -5536.2155039366235,\n",
       " -6619.1635555296525,\n",
       " -5996.269570924511,\n",
       " -5898.651727782132,\n",
       " -5192.867539522451,\n",
       " -6132.480500563514,\n",
       " -5900.885740494553,\n",
       " -6467.5121938561415,\n",
       " -6645.407275193028,\n",
       " -5883.06865211892,\n",
       " -5196.893749922714,\n",
       " -6856.777605023985]"
      ]
     },
     "execution_count": 21,
     "metadata": {},
     "output_type": "execute_result"
    }
   ],
   "source": [
    "(likelihood_music_forward)"
   ]
  },
  {
   "cell_type": "code",
   "execution_count": 22,
   "id": "f6c80586",
   "metadata": {},
   "outputs": [],
   "source": [
    "# Speech files forward\n",
    "alpha_speech = []\n",
    "alpha_sum_speech = []\n",
    "likelihood_speech_forward = []\n",
    "for i in range(total_samples):\n",
    "    alpha, alpha_sum, lk = forward(o_speech[i,:], a, b, pi)\n",
    "    alpha_speech.append(alpha)\n",
    "    alpha_sum_speech.append(alpha_sum)\n",
    "    likelihood_speech_forward.append(lk)"
   ]
  },
  {
   "cell_type": "code",
   "execution_count": 23,
   "id": "6bd9c624",
   "metadata": {},
   "outputs": [
    {
     "data": {
      "text/plain": [
       "[-6215.2689526704635,\n",
       " -5863.072228796822,\n",
       " -6390.603295569374,\n",
       " -5813.373159899628,\n",
       " -5972.434570198586,\n",
       " -5961.9518305703805,\n",
       " -6135.327690558904,\n",
       " -6229.489446645975,\n",
       " -5755.713513516226,\n",
       " -6449.578213297291,\n",
       " -6124.025858207948,\n",
       " -5575.408696473907,\n",
       " -6072.698427889216,\n",
       " -6330.675089327305,\n",
       " -6087.95959301316,\n",
       " -6412.500986242542,\n",
       " -5854.290267049231,\n",
       " -5996.444002638049,\n",
       " -5800.649695689905,\n",
       " -5358.021138655458,\n",
       " -6307.469288569455,\n",
       " -5543.849189672581,\n",
       " -6210.121864173298,\n",
       " -5299.262166848401,\n",
       " -6100.730672946127,\n",
       " -6151.284634502484,\n",
       " -6223.293863904541,\n",
       " -6016.048639485907,\n",
       " -6147.421934623611,\n",
       " -5796.324709606065,\n",
       " -6619.416770614802,\n",
       " -6285.693148967108,\n",
       " -5997.511772103062,\n",
       " -6245.083558658692,\n",
       " -6010.625454891529,\n",
       " -6215.206269836009,\n",
       " -5627.8161291686865,\n",
       " -6255.503562526521,\n",
       " -6196.898569773913,\n",
       " -6510.692859272903]"
      ]
     },
     "execution_count": 23,
     "metadata": {},
     "output_type": "execute_result"
    }
   ],
   "source": [
    "(likelihood_speech_forward)"
   ]
  },
  {
   "cell_type": "markdown",
   "id": "71e0a962",
   "metadata": {},
   "source": [
    "#                            BACKWARD PROCEDURE"
   ]
  },
  {
   "cell_type": "code",
   "execution_count": 24,
   "id": "480ff473",
   "metadata": {},
   "outputs": [],
   "source": [
    "# Music files backward\n",
    "beta_music = []\n",
    "likelihood_music_backward = []\n",
    "for i in range(total_samples):\n",
    "    beta, lk = backward(o_music[i,:], a, b, pi)\n",
    "    beta_music.append(beta)\n",
    "    likelihood_music_backward.append(lk)"
   ]
  },
  {
   "cell_type": "code",
   "execution_count": 25,
   "id": "aaf1c8b4",
   "metadata": {
    "scrolled": true
   },
   "outputs": [
    {
     "data": {
      "text/plain": [
       "[-5403.236658888253,\n",
       " -6127.67028532652,\n",
       " -6583.584462660721,\n",
       " -6162.0754095390475,\n",
       " -5967.120383998148,\n",
       " -6590.554561418547,\n",
       " -5584.607184671417,\n",
       " -5882.501521102816,\n",
       " -5859.151657016941,\n",
       " -6272.278398108614,\n",
       " -5586.781374219627,\n",
       " -6423.000924427179,\n",
       " -5461.575554763767,\n",
       " -6088.203760190041,\n",
       " -6091.845980335544,\n",
       " -6273.7519431446035,\n",
       " -6379.378488196459,\n",
       " -6184.980471462287,\n",
       " -6163.499442200282,\n",
       " -5839.931534693584,\n",
       " -6534.829348861507,\n",
       " -6197.655051342179,\n",
       " -5904.85864607604,\n",
       " -6107.803102629402,\n",
       " -6440.964126622262,\n",
       " -6606.287120103158,\n",
       " -5358.657980829929,\n",
       " -6093.623834838438,\n",
       " -5533.465116843547,\n",
       " -6616.65333107188,\n",
       " -5993.536070120263,\n",
       " -5896.331040356296,\n",
       " -5190.5470339764815,\n",
       " -6130.151605063071,\n",
       " -5898.5641702489775,\n",
       " -6463.827404387279,\n",
       " -6641.941539290228,\n",
       " -5880.695714534922,\n",
       " -5194.573244376743,\n",
       " -6854.2673805662125]"
      ]
     },
     "execution_count": 25,
     "metadata": {},
     "output_type": "execute_result"
    }
   ],
   "source": [
    "likelihood_music_backward"
   ]
  },
  {
   "cell_type": "code",
   "execution_count": 26,
   "id": "cf0cd58b",
   "metadata": {},
   "outputs": [],
   "source": [
    "# Speech files backward\n",
    "beta_speech = []\n",
    "likelihood_speech_backward = []\n",
    "for i in range(total_samples):\n",
    "    beta, lk = backward(o_speech[i,:], a, b, pi)\n",
    "    beta_speech.append(beta)\n",
    "    likelihood_speech_backward.append(lk)"
   ]
  },
  {
   "cell_type": "code",
   "execution_count": 27,
   "id": "ba5496d1",
   "metadata": {},
   "outputs": [
    {
     "data": {
      "text/plain": [
       "[-6211.760358367729,\n",
       " -5860.750370038424,\n",
       " -6386.854143949442,\n",
       " -5810.965309809591,\n",
       " -5968.925844344629,\n",
       " -5959.6268094401685,\n",
       " -6131.642901090042,\n",
       " -6227.168941100004,\n",
       " -5752.7343626002985,\n",
       " -6445.84061660517,\n",
       " -6120.2765739057395,\n",
       " -5572.555541894623,\n",
       " -6070.377852571253,\n",
       " -6326.580082178309,\n",
       " -6085.603339071265,\n",
       " -6410.180480664346,\n",
       " -5850.664367461903,\n",
       " -5993.604336938279,\n",
       " -5798.202875143198,\n",
       " -5355.700633109489,\n",
       " -6305.113034627559,\n",
       " -5539.739627670417,\n",
       " -6206.372638784615,\n",
       " -5296.94166130243,\n",
       " -6097.264937043327,\n",
       " -6148.451720441845,\n",
       " -6220.783639446769,\n",
       " -6013.728132789294,\n",
       " -6145.10142907764,\n",
       " -5792.575425303858,\n",
       " -6617.09604762089,\n",
       " -6283.330706906121,\n",
       " -5995.191266557092,\n",
       " -6240.999851202455,\n",
       " -6008.304949345559,\n",
       " -6212.884699590434,\n",
       " -5625.082713508535,\n",
       " -6253.183056980551,\n",
       " -6194.568868289538,\n",
       " -6506.310358200647]"
      ]
     },
     "execution_count": 27,
     "metadata": {},
     "output_type": "execute_result"
    }
   ],
   "source": [
    "likelihood_speech_backward"
   ]
  },
  {
   "cell_type": "markdown",
   "id": "47babf83",
   "metadata": {},
   "source": [
    "#                            Viterbi algorithm"
   ]
  },
  {
   "cell_type": "code",
   "execution_count": 28,
   "id": "8b7e1742",
   "metadata": {},
   "outputs": [
    {
     "name": "stdout",
     "output_type": "stream",
     "text": [
      "[0. 0. 0. ... 2. 2. 2.]\n",
      "[0. 0. 0. ... 0. 0. 1.]\n",
      "[1. 2. 2. ... 1. 1. 0.]\n",
      "[1. 1. 1. ... 0. 0. 0.]\n",
      "[0. 0. 1. ... 0. 1. 0.]\n",
      "[0. 0. 1. ... 1. 1. 1.]\n",
      "[0. 0. 0. ... 0. 0. 0.]\n",
      "[0. 0. 0. ... 0. 0. 0.]\n",
      "[1. 2. 2. ... 1. 1. 0.]\n",
      "[1. 2. 2. ... 1. 0. 0.]\n",
      "[0. 0. 0. ... 1. 1. 0.]\n",
      "[0. 0. 0. ... 1. 1. 0.]\n",
      "[0. 0. 0. ... 0. 0. 0.]\n",
      "[0. 0. 0. ... 1. 2. 2.]\n",
      "[0. 0. 0. ... 1. 1. 1.]\n",
      "[1. 1. 2. ... 1. 1. 1.]\n",
      "[1. 0. 0. ... 0. 0. 0.]\n",
      "[0. 1. 1. ... 0. 0. 0.]\n",
      "[0. 0. 1. ... 0. 0. 0.]\n",
      "[0. 1. 0. ... 0. 0. 0.]\n",
      "[1. 1. 2. ... 1. 1. 0.]\n",
      "[1. 2. 2. ... 0. 0. 0.]\n",
      "[0. 0. 0. ... 2. 1. 0.]\n",
      "[1. 1. 1. ... 0. 0. 1.]\n",
      "[1. 1. 1. ... 0. 1. 0.]\n",
      "[0. 0. 0. ... 1. 0. 0.]\n",
      "[1. 1. 1. ... 2. 2. 2.]\n",
      "[1. 1. 0. ... 1. 1. 0.]\n",
      "[0. 1. 0. ... 0. 1. 0.]\n",
      "[0. 1. 1. ... 0. 1. 0.]\n",
      "[0. 1. 0. ... 0. 0. 0.]\n",
      "[0. 0. 0. ... 0. 0. 0.]\n",
      "[0. 0. 0. ... 0. 0. 0.]\n",
      "[0. 0. 0. ... 1. 1. 0.]\n",
      "[0. 0. 0. ... 1. 2. 2.]\n",
      "[1. 1. 1. ... 1. 1. 1.]\n",
      "[1. 1. 1. ... 1. 1. 1.]\n",
      "[0. 0. 1. ... 2. 2. 1.]\n",
      "[0. 0. 0. ... 0. 0. 0.]\n",
      "[0. 1. 0. ... 1. 1. 1.]\n"
     ]
    }
   ],
   "source": [
    "# Music File\n",
    "q_music = []\n",
    "for i in range(total_samples):    # total_samples\n",
    "    q = Viterbi(o_music[i,:], a, b, pi)\n",
    "    q_music.append(np.array(q))\n",
    "q_music = np.array(q_music)"
   ]
  },
  {
   "cell_type": "code",
   "execution_count": 29,
   "id": "45d64e6a",
   "metadata": {},
   "outputs": [
    {
     "name": "stdout",
     "output_type": "stream",
     "text": [
      "Best state sequence for music files\n",
      " [[0. 0. 0. ... 2. 2. 2.]\n",
      " [0. 0. 0. ... 0. 0. 1.]\n",
      " [1. 2. 2. ... 1. 1. 0.]\n",
      " ...\n",
      " [0. 0. 1. ... 2. 2. 1.]\n",
      " [0. 0. 0. ... 0. 0. 0.]\n",
      " [0. 1. 0. ... 1. 1. 1.]]\n"
     ]
    }
   ],
   "source": [
    "print(\"Best state sequence for music files\\n\",q_music)"
   ]
  },
  {
   "cell_type": "code",
   "execution_count": 30,
   "id": "cb671e76",
   "metadata": {},
   "outputs": [
    {
     "name": "stdout",
     "output_type": "stream",
     "text": [
      "[0. 1. 1. ... 0. 0. 1.]\n",
      "[0. 0. 0. ... 0. 0. 0.]\n",
      "[1. 0. 0. ... 1. 1. 0.]\n",
      "[0. 0. 1. ... 0. 0. 0.]\n",
      "[0. 1. 1. ... 0. 0. 0.]\n",
      "[0. 0. 0. ... 0. 1. 1.]\n",
      "[1. 1. 1. ... 1. 0. 0.]\n",
      "[0. 0. 0. ... 0. 0. 0.]\n",
      "[0. 1. 1. ... 1. 0. 0.]\n",
      "[1. 0. 0. ... 1. 1. 1.]\n",
      "[1. 0. 0. ... 1. 1. 2.]\n",
      "[0. 1. 1. ... 1. 0. 0.]\n",
      "[0. 0. 0. ... 1. 1. 2.]\n",
      "[1. 1. 1. ... 1. 1. 0.]\n",
      "[0. 0. 1. ... 0. 0. 1.]\n",
      "[0. 0. 0. ... 0. 0. 1.]\n",
      "[1. 1. 0. ... 0. 0. 1.]\n",
      "[0. 1. 1. ... 1. 1. 1.]\n",
      "[0. 1. 2. ... 0. 0. 0.]\n",
      "[0. 0. 0. ... 0. 0. 0.]\n",
      "[0. 0. 1. ... 0. 0. 0.]\n",
      "[1. 2. 2. ... 0. 0. 0.]\n",
      "[1. 0. 0. ... 0. 0. 0.]\n",
      "[0. 0. 0. ... 1. 1. 0.]\n",
      "[1. 1. 1. ... 1. 2. 2.]\n",
      "[0. 1. 1. ... 1. 2. 2.]\n",
      "[0. 1. 1. ... 0. 0. 0.]\n",
      "[0. 0. 0. ... 1. 1. 0.]\n",
      "[0. 0. 0. ... 0. 0. 0.]\n",
      "[1. 0. 0. ... 0. 0. 0.]\n",
      "[0. 0. 0. ... 1. 1. 2.]\n",
      "[0. 0. 1. ... 1. 1. 1.]\n",
      "[0. 0. 0. ... 0. 0. 0.]\n",
      "[1. 2. 2. ... 1. 0. 0.]\n",
      "[0. 0. 0. ... 1. 1. 2.]\n",
      "[0. 0. 0. ... 0. 0. 1.]\n",
      "[0. 1. 0. ... 0. 0. 0.]\n",
      "[0. 0. 0. ... 1. 1. 0.]\n",
      "[0. 0. 0. ... 1. 1. 0.]\n",
      "[1. 2. 2. ... 1. 1. 1.]\n"
     ]
    }
   ],
   "source": [
    "# Speech File\n",
    "q_speech = []\n",
    "for i in range(total_samples):    # total_samples\n",
    "    q = Viterbi(o_speech[i,:], a, b, pi)\n",
    "    q_speech.append(np.array(q))\n",
    "q_speech = np.array(q_speech)"
   ]
  },
  {
   "cell_type": "code",
   "execution_count": 31,
   "id": "fc692513",
   "metadata": {},
   "outputs": [
    {
     "name": "stdout",
     "output_type": "stream",
     "text": [
      "Best state sequence for music files\n",
      " [[0. 1. 1. ... 0. 0. 1.]\n",
      " [0. 0. 0. ... 0. 0. 0.]\n",
      " [1. 0. 0. ... 1. 1. 0.]\n",
      " ...\n",
      " [0. 0. 0. ... 1. 1. 0.]\n",
      " [0. 0. 0. ... 1. 1. 0.]\n",
      " [1. 2. 2. ... 1. 1. 1.]]\n"
     ]
    }
   ],
   "source": [
    "print(\"Best state sequence for music files\\n\",q_speech)"
   ]
  },
  {
   "cell_type": "markdown",
   "id": "3211d1a6",
   "metadata": {},
   "source": [
    "#                                Baum Welch "
   ]
  },
  {
   "cell_type": "code",
   "execution_count": 32,
   "id": "a552ff51",
   "metadata": {},
   "outputs": [],
   "source": [
    "iteration_for_learning = 15"
   ]
  },
  {
   "cell_type": "code",
   "execution_count": 33,
   "id": "bb44a4f8",
   "metadata": {
    "scrolled": true
   },
   "outputs": [
    {
     "name": "stdout",
     "output_type": "stream",
     "text": [
      "Number of time steps: 2998\n",
      "Number of states: 3\n",
      "Number of observation states: 8\n",
      "Number of files:  40\n",
      "Initial Guess :\n",
      " a:\n",
      " [[0.6 0.4 0. ]\n",
      " [0.3 0.5 0.2]\n",
      " [0.  0.1 0.9]] \n",
      "b:\n",
      " [[0.25  0.25  0.25  0.25  0.    0.    0.    0.   ]\n",
      " [0.125 0.125 0.125 0.125 0.125 0.125 0.125 0.125]\n",
      " [0.    0.    0.    0.    0.    0.5   0.5   0.   ]] \n",
      " pi:\n",
      " [0.5 0.5 0. ]\n",
      "iteration number: 0\n",
      "Likelihood of the iteration is  -242580.74630021324\n",
      "iteration number: 1\n",
      "Likelihood of the iteration is  -206230.28845286826\n",
      "iteration number: 2\n",
      "Likelihood of the iteration is  -203379.77812234382\n",
      "iteration number: 3\n",
      "Likelihood of the iteration is  -200121.14520318276\n",
      "iteration number: 4\n",
      "Likelihood of the iteration is  -196588.5643631441\n",
      "iteration number: 5\n",
      "Likelihood of the iteration is  -192639.04036673208\n",
      "iteration number: 6\n",
      "Likelihood of the iteration is  -188514.16331002212\n",
      "iteration number: 7\n",
      "Likelihood of the iteration is  -185491.90083378894\n",
      "iteration number: 8\n",
      "Likelihood of the iteration is  -184966.5866413604\n",
      "iteration number: 9\n",
      "Likelihood of the iteration is  -184842.01847063078\n",
      "iteration number: 10\n",
      "Likelihood of the iteration is  -184780.10934378236\n",
      "iteration number: 11\n",
      "Likelihood of the iteration is  -184745.57487228003\n",
      "iteration number: 12\n",
      "Likelihood of the iteration is  -184724.93598188588\n",
      "iteration number: 13\n",
      "Likelihood of the iteration is  -184711.6932717816\n",
      "iteration number: 14\n",
      "Likelihood of the iteration is  -184702.54620854286\n"
     ]
    }
   ],
   "source": [
    "# Music HMM model learning\n",
    "a_music,b_music,pi_music, lk_BW_music = BaumWelch(o_music,a,b,pi,iteration_for_learning)"
   ]
  },
  {
   "cell_type": "code",
   "execution_count": 34,
   "id": "f7db3aee",
   "metadata": {},
   "outputs": [
    {
     "name": "stdout",
     "output_type": "stream",
     "text": [
      "Music Model parameters:\n",
      "a_music:\n",
      "\n",
      " [[0.91021937 0.08978063 0.        ]\n",
      " [0.04068567 0.89188072 0.06743361]\n",
      " [0.         0.43806811 0.56193189]] \n",
      " \n",
      " b_music: \n",
      "  [[4.56096873e-09 4.61090661e-01 3.50553327e-06 5.38905829e-01\n",
      "  0.00000000e+00 0.00000000e+00 0.00000000e+00 0.00000000e+00]\n",
      " [1.04307784e-01 2.22056377e-01 2.45683924e-01 1.69519708e-02\n",
      "  1.05205720e-02 2.37878580e-02 2.02572696e-01 1.74118817e-01]\n",
      " [0.00000000e+00 0.00000000e+00 0.00000000e+00 0.00000000e+00\n",
      "  0.00000000e+00 4.52767860e-06 9.99995472e-01 0.00000000e+00]] \n",
      " \n",
      " pi_music: \n",
      " [0.19159019 0.80840981 0.        ]\n"
     ]
    }
   ],
   "source": [
    "print(\"Music Model parameters:\")\n",
    "print(\"a_music:\\n\\n\",a_music,\"\\n \\n b_music: \\n \",b_music,\"\\n \\n pi_music: \\n\",pi_music)"
   ]
  },
  {
   "cell_type": "code",
   "execution_count": 35,
   "id": "f5f5d3ce",
   "metadata": {},
   "outputs": [
    {
     "data": {
      "image/png": "[encoded data removed]",
      "text/plain": [
       "<Figure size 432x288 with 1 Axes>"
      ]
     },
     "metadata": {
      "needs_background": "light"
     },
     "output_type": "display_data"
    }
   ],
   "source": [
    "iteration_array = np.arange(1,iteration_for_learning+1)\n",
    "displayPlot(iteration_array,lk_BW_music,\"Music\",\"lower right\",\"Iteration number\",\"Log Likelihood\",\"Music HMM model \")"
   ]
  },
  {
   "cell_type": "code",
   "execution_count": 36,
   "id": "748d1098",
   "metadata": {},
   "outputs": [
    {
     "name": "stdout",
     "output_type": "stream",
     "text": [
      "Number of time steps: 2998\n",
      "Number of states: 3\n",
      "Number of observation states: 8\n",
      "Number of files:  40\n",
      "Initial Guess :\n",
      " a:\n",
      " [[0.6 0.4 0. ]\n",
      " [0.3 0.5 0.2]\n",
      " [0.  0.1 0.9]] \n",
      "b:\n",
      " [[0.25  0.25  0.25  0.25  0.    0.    0.    0.   ]\n",
      " [0.125 0.125 0.125 0.125 0.125 0.125 0.125 0.125]\n",
      " [0.    0.    0.    0.    0.    0.5   0.5   0.   ]] \n",
      " pi:\n",
      " [0.5 0.5 0. ]\n",
      "iteration number: 0\n",
      "Likelihood of the iteration is  -242159.74171705608\n",
      "iteration number: 1\n",
      "Likelihood of the iteration is  -221372.63102591614\n",
      "iteration number: 2\n",
      "Likelihood of the iteration is  -218250.30691282928\n",
      "iteration number: 3\n",
      "Likelihood of the iteration is  -214375.1334775851\n",
      "iteration number: 4\n",
      "Likelihood of the iteration is  -209936.98045693876\n",
      "iteration number: 5\n",
      "Likelihood of the iteration is  -205735.13924874237\n",
      "iteration number: 6\n",
      "Likelihood of the iteration is  -202669.9237686437\n",
      "iteration number: 7\n",
      "Likelihood of the iteration is  -200043.95392028877\n",
      "iteration number: 8\n",
      "Likelihood of the iteration is  -197020.02300278653\n",
      "iteration number: 9\n",
      "Likelihood of the iteration is  -195518.2529434227\n",
      "iteration number: 10\n",
      "Likelihood of the iteration is  -195430.01010543035\n",
      "iteration number: 11\n",
      "Likelihood of the iteration is  -195422.0043552511\n",
      "iteration number: 12\n",
      "Likelihood of the iteration is  -195420.01064447805\n",
      "iteration number: 13\n",
      "Likelihood of the iteration is  -195419.30387871424\n",
      "iteration number: 14\n",
      "Likelihood of the iteration is  -195419.01597641438\n"
     ]
    }
   ],
   "source": [
    "# Speech HMM model Learning \n",
    "a_speech,b_speech,pi_speech, lk_BW_speech = BaumWelch(o_speech,a,b,pi,iteration_for_learning)"
   ]
  },
  {
   "cell_type": "code",
   "execution_count": 62,
   "id": "273f7f89",
   "metadata": {},
   "outputs": [
    {
     "name": "stdout",
     "output_type": "stream",
     "text": [
      "Speech Model parameters:\n",
      "a_speech:\n",
      "\n",
      " [[0.89452767 0.10547233 0.        ]\n",
      " [0.05225369 0.94059357 0.00715275]\n",
      " [0.         0.14227689 0.85772311]] \n",
      " \n",
      " b_speech: \n",
      "  [[7.61745680e-01 5.17728414e-09 2.38254315e-01 8.52134755e-13\n",
      "  0.00000000e+00 0.00000000e+00 0.00000000e+00 0.00000000e+00]\n",
      " [4.01741614e-02 2.12235840e-01 1.81943658e-01 1.03456435e-01\n",
      "  1.01175160e-01 3.13126087e-02 2.20909840e-01 1.08792297e-01]\n",
      " [0.00000000e+00 0.00000000e+00 0.00000000e+00 0.00000000e+00\n",
      "  0.00000000e+00 1.00000000e+00 1.42294885e-11 0.00000000e+00]] \n",
      " \n",
      " pi_speech: \n",
      " [0.15549952 0.84450048 0.        ]\n"
     ]
    }
   ],
   "source": [
    "print(\"Speech Model parameters:\")\n",
    "print(\"a_speech:\\n\\n\",a_speech,\"\\n \\n b_speech: \\n \",b_speech,\"\\n \\n pi_speech: \\n\",pi_speech)"
   ]
  },
  {
   "cell_type": "code",
   "execution_count": 63,
   "id": "3bf58a6a",
   "metadata": {},
   "outputs": [
    {
     "data": {
      "image/png": "[encoded data removed]",
      "text/plain": [
       "<Figure size 432x288 with 1 Axes>"
      ]
     },
     "metadata": {
      "needs_background": "light"
     },
     "output_type": "display_data"
    }
   ],
   "source": [
    "displayPlot(iteration_array,lk_BW_speech,\"Speech\",\"lower right\",\"Iteration number\",\"Log Likelihood\",\"Speech HMM model \")"
   ]
  },
  {
   "cell_type": "code",
   "execution_count": 64,
   "id": "45a84293",
   "metadata": {},
   "outputs": [],
   "source": [
    "# Training accuracy\n",
    "\n",
    "# Finding Likelihood of the observation from forward method Music model\n",
    "alpha_train_music = []\n",
    "alpha_sum_train_music = []\n",
    "likelihood_train_music_forward = []\n",
    "for i in range(total_samples):\n",
    "    alpha, alpha_sum, lk = forward(o_music[i,:], a_music,b_music,pi_music)\n",
    "    alpha_train_music.append(alpha)\n",
    "    alpha_sum_train_music.append(alpha_sum)\n",
    "    likelihood_train_music_forward.append(lk)\n",
    "\n",
    "\n",
    "# Finding Likelihood of the observation from forward method speech model\n",
    "\n",
    "alpha_train_speech = []\n",
    "alpha_sum_train_speech = []\n",
    "likelihood_train_speech_forward = []\n",
    "for i in range(total_samples):\n",
    "    alpha, alpha_sum, lk = forward(o_music[i,:],a_speech,b_speech,pi_speech)\n",
    "    alpha_train_speech.append(alpha)\n",
    "    alpha_sum_train_speech.append(alpha_sum)\n",
    "    likelihood_train_speech_forward.append(lk)\n",
    "    \n"
   ]
  },
  {
   "cell_type": "code",
   "execution_count": 65,
   "id": "0d2236c8",
   "metadata": {},
   "outputs": [],
   "source": [
    "# Predicting class\n",
    "class_predict_train_music = []\n",
    "for i in range(total_samples):\n",
    "    if likelihood_train_music_forward[i]>likelihood_train_speech_forward[i]:\n",
    "        class_predict_train_music.append(0)\n",
    "    else:\n",
    "        class_predict_train_music.append(1)"
   ]
  },
  {
   "cell_type": "code",
   "execution_count": 66,
   "id": "40c1ef7f",
   "metadata": {},
   "outputs": [],
   "source": [
    "e_music = np.sum(np.array(class_predict_train_music))"
   ]
  },
  {
   "cell_type": "code",
   "execution_count": 67,
   "id": "b61ffeb5",
   "metadata": {},
   "outputs": [],
   "source": [
    "# Training accuracy\n",
    "\n",
    "# Finding Likelihood of the observation from forward method Music model\n",
    "alpha_train_music = []\n",
    "alpha_sum_train_music = []\n",
    "likelihood_train_music_forward = []\n",
    "for i in range(total_samples):\n",
    "    alpha, alpha_sum, lk = forward(o_speech[i,:], a_music,b_music,pi_music)\n",
    "    alpha_train_music.append(alpha)\n",
    "    alpha_sum_train_music.append(alpha_sum)\n",
    "    likelihood_train_music_forward.append(lk)\n",
    "\n",
    "\n",
    "# Finding Likelihood of the observation from forward method speech model\n",
    "\n",
    "alpha_train_speech = []\n",
    "alpha_sum_train_speech = []\n",
    "likelihood_train_speech_forward = []\n",
    "for i in range(total_samples):\n",
    "    alpha, alpha_sum, lk = forward(o_speech[i,:],a_speech,b_speech,pi_speech)\n",
    "    alpha_train_speech.append(alpha)\n",
    "    alpha_sum_train_speech.append(alpha_sum)\n",
    "    likelihood_train_speech_forward.append(lk)"
   ]
  },
  {
   "cell_type": "code",
   "execution_count": 68,
   "id": "7bc433ac",
   "metadata": {},
   "outputs": [],
   "source": [
    "# Predicting class\n",
    "class_predict_train_speech = []\n",
    "for i in range(total_samples):\n",
    "    if likelihood_train_music_forward[i]>likelihood_train_speech_forward[i]:\n",
    "        class_predict_train_speech.append(0)\n",
    "    else:\n",
    "        class_predict_train_speech.append(1)"
   ]
  },
  {
   "cell_type": "code",
   "execution_count": 69,
   "id": "20223f32",
   "metadata": {},
   "outputs": [],
   "source": [
    "e_speech = total_samples- np.sum(np.array(class_predict_train_speech))"
   ]
  },
  {
   "cell_type": "code",
   "execution_count": 70,
   "id": "7e263b4b",
   "metadata": {},
   "outputs": [
    {
     "name": "stdout",
     "output_type": "stream",
     "text": [
      "Training error is  88.75\n"
     ]
    }
   ],
   "source": [
    "# Training error\n",
    "print(\"Training error is \",100-(e_speech+e_music)*100/(2*total_samples))"
   ]
  },
  {
   "cell_type": "markdown",
   "id": "4f4d02a8",
   "metadata": {},
   "source": [
    "#                                Testing "
   ]
  },
  {
   "cell_type": "code",
   "execution_count": 71,
   "id": "c8aaa77e",
   "metadata": {},
   "outputs": [],
   "source": [
    "# Test File\n",
    "#  i. Read the test data. \n",
    "# Convert them into spectrogram with window 25 ms and shift of 10 ms with 64 component FFT Similarly do for test file\n",
    "\n",
    "# Initial inputs \n",
    "# test data\n",
    "path_test = './speech_music_classification/test'\n",
    "files_test = os.listdir(path_test)\n",
    "\n",
    "a_ = 32\n",
    "b_ = 2998\n",
    "total_test_files = len(files_test)\n",
    "total_test_sequences = total_test_files\n",
    "# Number of frames * Number of features \n",
    "test = np.zeros((b_ * total_test_files, a_))\n"
   ]
  },
  {
   "cell_type": "code",
   "execution_count": 72,
   "id": "a68c2151",
   "metadata": {},
   "outputs": [
    {
     "name": "stdout",
     "output_type": "stream",
     "text": [
      "Number of test samples 48\n"
     ]
    }
   ],
   "source": [
    "print(\"Number of test samples\", total_test_files)"
   ]
  },
  {
   "cell_type": "code",
   "execution_count": 73,
   "id": "bbfa2233",
   "metadata": {},
   "outputs": [],
   "source": [
    "windowSz = 25\n",
    "shift = 10\n",
    "fft_points = 64\n",
    "# test data\n",
    "for i in range(total_test_files):\n",
    "    freq, signal, spec = spectrogram(path_test + '/' + files_test[i], windowSz, shift,fft_points,b_)\n",
    "    spec = spec.T\n",
    "    test[b_ * i: b_ * (i+1), :] = spec"
   ]
  },
  {
   "cell_type": "code",
   "execution_count": 74,
   "id": "7f3158de",
   "metadata": {},
   "outputs": [],
   "source": [
    "# Observation sequence for test data from kmeans_music model\n",
    "y_kmeans_test_t = kmeans_t.predict(test)\n",
    "o_test_t =  y_kmeans_test_t.reshape(total_test_sequences, b_) "
   ]
  },
  {
   "cell_type": "code",
   "execution_count": 105,
   "id": "e9ff3d85",
   "metadata": {},
   "outputs": [
    {
     "name": "stdout",
     "output_type": "stream",
     "text": [
      "Observation sequence of the Test data from Kmeans model for Speech\n",
      " [[7 1 7 ... 3 7 1]\n",
      " [3 3 3 ... 3 3 1]\n",
      " [1 1 1 ... 3 3 3]\n",
      " ...\n",
      " [1 1 7 ... 1 1 1]\n",
      " [7 7 1 ... 3 7 7]\n",
      " [3 1 6 ... 0 0 0]]\n"
     ]
    }
   ],
   "source": [
    "print(\"Observation sequence of the Test data from Kmeans model for Speech\\n\",o_test_t)"
   ]
  },
  {
   "cell_type": "code",
   "execution_count": 76,
   "id": "97988542",
   "metadata": {},
   "outputs": [],
   "source": [
    "# Observation sequence for test data from kmeans_speech model\n",
    "y_kmeans_test_speech = kmeans_speech.predict(test)\n",
    "o_test_speech =  y_kmeans_test_speech.reshape(total_test_sequences, b_) "
   ]
  },
  {
   "cell_type": "code",
   "execution_count": 77,
   "id": "c10fedcb",
   "metadata": {},
   "outputs": [
    {
     "name": "stdout",
     "output_type": "stream",
     "text": [
      "Observation sequence of the Test data from Kmeans model for Speech [[1 1 5 ... 7 5 1]\n",
      " [7 7 7 ... 7 7 1]\n",
      " [7 1 1 ... 7 7 7]\n",
      " ...\n",
      " [1 1 5 ... 1 7 1]\n",
      " [5 5 1 ... 7 5 5]\n",
      " [7 1 5 ... 2 2 2]]\n"
     ]
    }
   ],
   "source": [
    "print(\"Observation sequence of the Test data from Kmeans model for Speech\",o_test_speech)"
   ]
  },
  {
   "cell_type": "code",
   "execution_count": 78,
   "id": "8f900588",
   "metadata": {},
   "outputs": [],
   "source": [
    "# Finding Likelihood of the observation from forward method Music model\n",
    "alpha_test_music = []\n",
    "alpha_sum_test_music = []\n",
    "likelihood_test_music_forward = []\n",
    "for i in range(total_test_files):\n",
    "    alpha, alpha_sum, lk = forward(o_test_t[i,:], a_music,b_music,pi_music)\n",
    "    alpha_test_music.append(alpha)\n",
    "    alpha_sum_test_music.append(alpha_sum)\n",
    "    likelihood_test_music_forward.append(lk)\n",
    "    \n"
   ]
  },
  {
   "cell_type": "code",
   "execution_count": 79,
   "id": "5b541330",
   "metadata": {},
   "outputs": [
    {
     "name": "stdout",
     "output_type": "stream",
     "text": [
      "Likelihood of the test For Music HMM model [-5016.2618813747495, -3568.6338868860257, -3344.321301294068, -4992.385770342187, -5003.423119865537, -4694.6931794878, -3583.2813882485643, -3888.1423592999477, -4311.086419092286, -4371.8192549477135, -4644.2655061693185, -4032.237210698372, -3858.9786651091185, -4093.5217053145134, -4650.094110379309, -4916.427814884378, -4384.3695380747895, -5340.086531776136, -4720.13091914172, -3981.2045443770257, -3721.133985789388, -4548.962080652277, -5572.69141441139, -4501.463926735141, -7407.936726374175, -6424.352419394384, -7268.757065700087, -5899.463079252176, -5713.535185682521, -6356.986656646128, -6125.791865531082, -5654.297184867384, -4676.718798713304, -5955.048850021592, -6564.146815889022, -5279.9169255479355, -5341.0479336302815, -5893.536729322779, -6034.28939032613, -5946.02670645382, -6534.918433323559, -7011.6429236721815, -5671.711613932425, -5058.800101450584, -5041.992033724808, -5233.966426587067, -5742.959267001015, -5981.778434576808]\n"
     ]
    }
   ],
   "source": [
    "print(\"Likelihood of the test For Music HMM model\",likelihood_test_music_forward)"
   ]
  },
  {
   "cell_type": "code",
   "execution_count": 80,
   "id": "d0a148b1",
   "metadata": {},
   "outputs": [],
   "source": [
    "# Finding Likelihood of the observation from forward method speech model\n",
    "\n",
    "alpha_test_speech = []\n",
    "alpha_sum_test_speech = []\n",
    "likelihood_test_speech_forward = []\n",
    "for i in range(total_test_files):\n",
    "    alpha, alpha_sum, lk = forward(o_test_t[i,:],a_speech,b_speech,pi_speech)\n",
    "    alpha_test_speech.append(alpha)\n",
    "    alpha_sum_test_speech.append(alpha_sum)\n",
    "    likelihood_test_speech_forward.append(lk)"
   ]
  },
  {
   "cell_type": "code",
   "execution_count": 81,
   "id": "361da1cc",
   "metadata": {
    "collapsed": true
   },
   "outputs": [
    {
     "data": {
      "text/plain": [
       "[-5830.008409048747,\n",
       " -6069.654302741597,\n",
       " -5906.303859666982,\n",
       " -5599.815282279834,\n",
       " -5653.746088214536,\n",
       " -5702.077861382373,\n",
       " -5527.184295592791,\n",
       " -5610.0787363912295,\n",
       " -5401.275934602334,\n",
       " -5055.670385539606,\n",
       " -5440.898663855105,\n",
       " -6101.577903966993,\n",
       " -5274.0153506852175,\n",
       " -5583.77115939024,\n",
       " -5458.066151035768,\n",
       " -5601.8060751998155,\n",
       " -5506.765247110055,\n",
       " -4440.143045529806,\n",
       " -5614.259999912289,\n",
       " -5713.390539316499,\n",
       " -5930.485265919091,\n",
       " -5234.2453580658785,\n",
       " -5192.453023262842,\n",
       " -5178.4285353911855,\n",
       " -5224.8254187730645,\n",
       " -4383.854137302324,\n",
       " -5216.789776522769,\n",
       " -5713.758566678396,\n",
       " -5945.566551473998,\n",
       " -5558.209785329829,\n",
       " -5769.439498017194,\n",
       " -5601.240855175432,\n",
       " -6080.871120958427,\n",
       " -4842.624191917246,\n",
       " -5463.620765562856,\n",
       " -5971.057354716904,\n",
       " -5506.676270985256,\n",
       " -5910.371479597955,\n",
       " -5914.912653009769,\n",
       " -5607.289526288778,\n",
       " -5626.07704512987,\n",
       " -6046.252231230768,\n",
       " -6053.394496169858,\n",
       " -5436.181386887265,\n",
       " -5394.1776390489,\n",
       " -5072.9575475735155,\n",
       " -5769.838851756086,\n",
       " -4818.920588864746]"
      ]
     },
     "execution_count": 81,
     "metadata": {},
     "output_type": "execute_result"
    }
   ],
   "source": [
    "likelihood_test_speech_forward"
   ]
  },
  {
   "cell_type": "code",
   "execution_count": 90,
   "id": "e5bc1012",
   "metadata": {},
   "outputs": [],
   "source": [
    "# Predicting class\n",
    "class_predict = []\n",
    "index_music = []\n",
    "index_speech = []\n",
    "false_negative = []\n",
    "false_positive = []\n",
    "for i in range(total_test_sequences):\n",
    "    if likelihood_test_music_forward[i]>likelihood_test_speech_forward[i]:\n",
    "        class_predict.append(0)\n",
    "        index_music.append(i)\n",
    "        if i>23:\n",
    "            false_negative.append(i)\n",
    "    else:\n",
    "        class_predict.append(1)\n",
    "        index_speech.append(i)\n",
    "        if i <24:\n",
    "            false_positive.append(i)\n",
    "    "
   ]
  },
  {
   "cell_type": "code",
   "execution_count": 88,
   "id": "0bc5963b",
   "metadata": {},
   "outputs": [
    {
     "name": "stdout",
     "output_type": "stream",
     "text": [
      "[0, 1, 2, 3, 4, 5, 6, 7, 8, 9, 10, 11, 12, 13, 14, 15, 16, 18, 19, 20, 21, 23, 28, 32, 35, 36, 37, 42, 43, 44, 46]\n"
     ]
    }
   ],
   "source": [
    "print(index_music)"
   ]
  },
  {
   "cell_type": "code",
   "execution_count": 89,
   "id": "e08fa022",
   "metadata": {},
   "outputs": [
    {
     "name": "stdout",
     "output_type": "stream",
     "text": [
      "[17, 22, 24, 25, 26, 27, 29, 30, 31, 33, 34, 38, 39, 40, 41, 45, 47]\n"
     ]
    }
   ],
   "source": [
    "print(index_speech)"
   ]
  },
  {
   "cell_type": "code",
   "execution_count": 95,
   "id": "f17adf01",
   "metadata": {},
   "outputs": [],
   "source": [
    "# Considering music class as positive and speech file as negative"
   ]
  },
  {
   "cell_type": "code",
   "execution_count": 102,
   "id": "0147a9a1",
   "metadata": {},
   "outputs": [
    {
     "name": "stdout",
     "output_type": "stream",
     "text": [
      "[28, 32, 35, 36, 37, 42, 43, 44, 46]\n"
     ]
    }
   ],
   "source": [
    "print(false_negative)"
   ]
  },
  {
   "cell_type": "code",
   "execution_count": 103,
   "id": "3a3c767b",
   "metadata": {},
   "outputs": [
    {
     "name": "stdout",
     "output_type": "stream",
     "text": [
      "[17, 22]\n"
     ]
    }
   ],
   "source": [
    "print(false_positive)"
   ]
  },
  {
   "cell_type": "code",
   "execution_count": 100,
   "id": "918e37cb",
   "metadata": {},
   "outputs": [
    {
     "name": "stdout",
     "output_type": "stream",
     "text": [
      "False negative  9\n",
      "True negative 15\n"
     ]
    }
   ],
   "source": [
    "FN= len(false_negative)\n",
    "TN = 24-FN\n",
    "print(\"False negative \",FN)\n",
    "print(\"True negative\", TN)"
   ]
  },
  {
   "cell_type": "code",
   "execution_count": 101,
   "id": "9e7ffe56",
   "metadata": {},
   "outputs": [
    {
     "name": "stdout",
     "output_type": "stream",
     "text": [
      "False positive  2\n",
      "True positive 22\n"
     ]
    }
   ],
   "source": [
    "FP = len(false_positive)\n",
    "TP = 24-FP\n",
    "print(\"False positive \",FP)\n",
    "print(\"True positive\", TP)"
   ]
  },
  {
   "cell_type": "code",
   "execution_count": 83,
   "id": "48077a5d",
   "metadata": {},
   "outputs": [],
   "source": [
    "class_actual = []\n",
    "# Music class\n",
    "\n",
    "for i in range(24):\n",
    "    class_actual.append(0)\n",
    "for i in range(24):\n",
    "    class_actual.append(1)"
   ]
  },
  {
   "cell_type": "code",
   "execution_count": null,
   "id": "c119addc",
   "metadata": {},
   "outputs": [],
   "source": []
  },
  {
   "cell_type": "code",
   "execution_count": 84,
   "id": "2b731526",
   "metadata": {},
   "outputs": [
    {
     "name": "stdout",
     "output_type": "stream",
     "text": [
      "[0, 0, 0, 0, 0, 0, 0, 0, 0, 0, 0, 0, 0, 0, 0, 0, 0, 1, 0, 0, 0, 0, 1, 0, 1, 1, 1, 1, 0, 1, 1, 1, 0, 1, 1, 0, 0, 0, 1, 1, 1, 1, 0, 0, 0, 1, 0, 1]\n"
     ]
    }
   ],
   "source": [
    "print(class_predict)"
   ]
  },
  {
   "cell_type": "code",
   "execution_count": 85,
   "id": "3c4a31a3",
   "metadata": {},
   "outputs": [],
   "source": [
    "# Accuracy\n",
    "correct = 0\n",
    "for i in range(total_test_sequences):\n",
    "    if class_actual[i] == class_predict[i]:\n",
    "        correct += 1\n",
    "        \n",
    "accuracy = correct*100.0/total_test_sequences"
   ]
  },
  {
   "cell_type": "code",
   "execution_count": 104,
   "id": "d6eba9a7",
   "metadata": {},
   "outputs": [
    {
     "name": "stdout",
     "output_type": "stream",
     "text": [
      "Number of correct predictions : 37\n",
      "Test Accuracy is  77.08333333333333 in percentage\n"
     ]
    }
   ],
   "source": [
    "print(\"Number of correct predictions :\",correct)\n",
    "print(\"Test Accuracy is \",accuracy,\"in percentage\")"
   ]
  },
  {
   "cell_type": "code",
   "execution_count": null,
   "id": "fa2b7c19",
   "metadata": {},
   "outputs": [],
   "source": []
  }
 ],
 "metadata": {
  "kernelspec": {
   "display_name": "Python 3",
   "language": "python",
   "name": "python3"
  },
  "language_info": {
   "codemirror_mode": {
    "name": "ipython",
    "version": 3
   },
   "file_extension": ".py",
   "mimetype": "text/x-python",
   "name": "python",
   "nbconvert_exporter": "python",
   "pygments_lexer": "ipython3",
   "version": "3.8.8"
  }
 },
 "nbformat": 4,
 "nbformat_minor": 5
}
